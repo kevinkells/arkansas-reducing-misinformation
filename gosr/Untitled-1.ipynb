{
 "cells": [
  {
   "cell_type": "code",
   "execution_count": 7,
   "metadata": {},
   "outputs": [],
   "source": [
    "import pandas as pd\n",
    "import os"
   ]
  },
  {
   "cell_type": "code",
   "execution_count": 11,
   "metadata": {},
   "outputs": [
    {
     "data": {
      "text/plain": [
       "'c:\\\\Users\\\\kevin\\\\OneDrive\\\\Documents\\\\ai\\\\scripts'"
      ]
     },
     "execution_count": 11,
     "metadata": {},
     "output_type": "execute_result"
    }
   ],
   "source": [
    "os.getcwd()"
   ]
  },
  {
   "cell_type": "code",
   "execution_count": 20,
   "metadata": {},
   "outputs": [],
   "source": [
    "path = '../books/lisbon-city-services/r-scale.csv'\n",
    "df = pd.read_csv(path)"
   ]
  },
  {
   "cell_type": "code",
   "execution_count": 21,
   "metadata": {},
   "outputs": [
    {
     "data": {
      "text/html": [
       "<div>\n",
       "<style scoped>\n",
       "    .dataframe tbody tr th:only-of-type {\n",
       "        vertical-align: middle;\n",
       "    }\n",
       "\n",
       "    .dataframe tbody tr th {\n",
       "        vertical-align: top;\n",
       "    }\n",
       "\n",
       "    .dataframe thead th {\n",
       "        text-align: right;\n",
       "    }\n",
       "</style>\n",
       "<table border=\"1\" class=\"dataframe\">\n",
       "  <thead>\n",
       "    <tr style=\"text-align: right;\">\n",
       "      <th></th>\n",
       "      <th>Unnamed: 0</th>\n",
       "      <th>id</th>\n",
       "      <th>program</th>\n",
       "      <th>description</th>\n",
       "      <th>organization</th>\n",
       "      <th>address</th>\n",
       "      <th>email</th>\n",
       "      <th>website</th>\n",
       "      <th>url_valid</th>\n",
       "      <th>eval.ImpactPotential</th>\n",
       "      <th>...</th>\n",
       "      <th>score.Scalability.Adaptability</th>\n",
       "      <th>score.Scalability.GrowthPotential</th>\n",
       "      <th>score.Scalability.Replicability</th>\n",
       "      <th>score.CommunityEngagement.Inclusivity</th>\n",
       "      <th>score.CommunityEngagement.ParticipationMechanisms</th>\n",
       "      <th>score.CommunityEngagement.AwarenessAndEducation</th>\n",
       "      <th>score.Sustainability.EnvironmentalConsiderations</th>\n",
       "      <th>score.Sustainability.EconomicSustainability</th>\n",
       "      <th>score.Sustainability.SocialSustainability</th>\n",
       "      <th>score.CommunityEngagement.AwarenessAnd Education</th>\n",
       "    </tr>\n",
       "  </thead>\n",
       "  <tbody>\n",
       "    <tr>\n",
       "      <th>0</th>\n",
       "      <td>0</td>\n",
       "      <td>0</td>\n",
       "      <td>CDI Portugal: Community Spaces</td>\n",
       "      <td>CDI Portugal has established community spaces ...</td>\n",
       "      <td>CDI Portugal (Center for Digital Inclusion)</td>\n",
       "      <td>Rua de O Século 79, 1200-433 Lisboa, Portugal</td>\n",
       "      <td>info@cdi-portugal.org</td>\n",
       "      <td>https://cdi.org.pt/</td>\n",
       "      <td>True</td>\n",
       "      <td>7</td>\n",
       "      <td>...</td>\n",
       "      <td>7</td>\n",
       "      <td>6</td>\n",
       "      <td>8</td>\n",
       "      <td>7</td>\n",
       "      <td>6</td>\n",
       "      <td>8.0</td>\n",
       "      <td>7</td>\n",
       "      <td>6</td>\n",
       "      <td>7</td>\n",
       "      <td>NaN</td>\n",
       "    </tr>\n",
       "    <tr>\n",
       "      <th>1</th>\n",
       "      <td>1</td>\n",
       "      <td>1</td>\n",
       "      <td>Espaço Internet</td>\n",
       "      <td>Espaço Internet is a program led by the Lisbon...</td>\n",
       "      <td>Lisbon Municipality</td>\n",
       "      <td>Praça do Município, 1149-014 Lisboa, Portugal</td>\n",
       "      <td>info@cm-lisboa.pt</td>\n",
       "      <td>https://www.cm-lisboa.pt/</td>\n",
       "      <td>True</td>\n",
       "      <td>8</td>\n",
       "      <td>...</td>\n",
       "      <td>7</td>\n",
       "      <td>6</td>\n",
       "      <td>8</td>\n",
       "      <td>8</td>\n",
       "      <td>5</td>\n",
       "      <td>7.0</td>\n",
       "      <td>7</td>\n",
       "      <td>6</td>\n",
       "      <td>7</td>\n",
       "      <td>NaN</td>\n",
       "    </tr>\n",
       "  </tbody>\n",
       "</table>\n",
       "<p>2 rows × 35 columns</p>\n",
       "</div>"
      ],
      "text/plain": [
       "   Unnamed: 0  id                         program  \\\n",
       "0           0   0  CDI Portugal: Community Spaces   \n",
       "1           1   1                 Espaço Internet   \n",
       "\n",
       "                                         description  \\\n",
       "0  CDI Portugal has established community spaces ...   \n",
       "1  Espaço Internet is a program led by the Lisbon...   \n",
       "\n",
       "                                  organization  \\\n",
       "0  CDI Portugal (Center for Digital Inclusion)   \n",
       "1                          Lisbon Municipality   \n",
       "\n",
       "                                         address                  email  \\\n",
       "0  Rua de O Século 79, 1200-433 Lisboa, Portugal  info@cdi-portugal.org   \n",
       "1  Praça do Município, 1149-014 Lisboa, Portugal      info@cm-lisboa.pt   \n",
       "\n",
       "                     website url_valid  eval.ImpactPotential  ...  \\\n",
       "0        https://cdi.org.pt/      True                     7  ...   \n",
       "1  https://www.cm-lisboa.pt/      True                     8  ...   \n",
       "\n",
       "   score.Scalability.Adaptability  score.Scalability.GrowthPotential  \\\n",
       "0                               7                                  6   \n",
       "1                               7                                  6   \n",
       "\n",
       "   score.Scalability.Replicability  score.CommunityEngagement.Inclusivity  \\\n",
       "0                                8                                      7   \n",
       "1                                8                                      8   \n",
       "\n",
       "   score.CommunityEngagement.ParticipationMechanisms  \\\n",
       "0                                                  6   \n",
       "1                                                  5   \n",
       "\n",
       "   score.CommunityEngagement.AwarenessAndEducation  \\\n",
       "0                                              8.0   \n",
       "1                                              7.0   \n",
       "\n",
       "   score.Sustainability.EnvironmentalConsiderations  \\\n",
       "0                                                 7   \n",
       "1                                                 7   \n",
       "\n",
       "   score.Sustainability.EconomicSustainability  \\\n",
       "0                                            6   \n",
       "1                                            6   \n",
       "\n",
       "   score.Sustainability.SocialSustainability  \\\n",
       "0                                          7   \n",
       "1                                          7   \n",
       "\n",
       "   score.CommunityEngagement.AwarenessAnd Education  \n",
       "0                                               NaN  \n",
       "1                                               NaN  \n",
       "\n",
       "[2 rows x 35 columns]"
      ]
     },
     "execution_count": 21,
     "metadata": {},
     "output_type": "execute_result"
    }
   ],
   "source": [
    "df.head(2)"
   ]
  },
  {
   "cell_type": "code",
   "execution_count": null,
   "metadata": {},
   "outputs": [],
   "source": []
  }
 ],
 "metadata": {
  "kernelspec": {
   "display_name": "Python 3",
   "language": "python",
   "name": "python3"
  },
  "language_info": {
   "codemirror_mode": {
    "name": "ipython",
    "version": 3
   },
   "file_extension": ".py",
   "mimetype": "text/x-python",
   "name": "python",
   "nbconvert_exporter": "python",
   "pygments_lexer": "ipython3",
   "version": "3.11.7"
  }
 },
 "nbformat": 4,
 "nbformat_minor": 2
}
