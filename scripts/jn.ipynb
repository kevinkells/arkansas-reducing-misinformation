{
 "cells": [
  {
   "cell_type": "code",
   "execution_count": 3,
   "metadata": {},
   "outputs": [
    {
     "name": "stderr",
     "output_type": "stream",
     "text": [
      "C:\\Users\\kevin\\AppData\\Local\\Temp\\ipykernel_26708\\3026406390.py:1: DeprecationWarning: \n",
      "Pyarrow will become a required dependency of pandas in the next major release of pandas (pandas 3.0),\n",
      "(to allow more performant data types, such as the Arrow string type, and better interoperability with other libraries)\n",
      "but was not found to be installed on your system.\n",
      "If this would cause problems for you,\n",
      "please provide us feedback at https://github.com/pandas-dev/pandas/issues/54466\n",
      "        \n",
      "  import pandas as pd\n"
     ]
    }
   ],
   "source": [
    "import pandas as pd\n",
    "import os"
   ]
  },
  {
   "cell_type": "code",
   "execution_count": 4,
   "metadata": {},
   "outputs": [
    {
     "data": {
      "text/plain": [
       "'c:\\\\Users\\\\kevin\\\\OneDrive\\\\Documents\\\\ai\\\\scripts'"
      ]
     },
     "execution_count": 4,
     "metadata": {},
     "output_type": "execute_result"
    }
   ],
   "source": [
    "os.getcwd()"
   ]
  },
  {
   "cell_type": "code",
   "execution_count": 5,
   "metadata": {},
   "outputs": [],
   "source": [
    "path = '../books/lisbon-city-services' \n",
    "file = 'r-scale.csv'\n",
    "df = pd.read_csv(os.path.join(path, file))"
   ]
  },
  {
   "cell_type": "code",
   "execution_count": 6,
   "metadata": {},
   "outputs": [],
   "source": [
    "df.head(2)\n",
    "cols = [col for col in df.columns if col.startswith('score.')]"
   ]
  },
  {
   "cell_type": "code",
   "execution_count": 28,
   "metadata": {},
   "outputs": [
    {
     "data": {
      "text/plain": [
       "['score.ImpactPotential.BreadthOfImpact',\n",
       " 'score.ImpactPotential.DepthOfImpact',\n",
       " 'score.ImpactPotential.UrgencyOfNeed',\n",
       " 'score.Feasibility.TechnicalViability',\n",
       " 'score.Feasibility.FinancialPracticality',\n",
       " 'score.Feasibility.RegulatoryCompliance',\n",
       " 'score.Feasibility.PoliticalViability',\n",
       " 'score.Innovativeness.Originality',\n",
       " 'score.Innovativeness.ApplicationOfTechnology',\n",
       " 'score.Innovativeness.ProblemSolvingApproach',\n",
       " 'score.Scalability.Adaptability',\n",
       " 'score.Scalability.GrowthPotential',\n",
       " 'score.Scalability.Replicability',\n",
       " 'score.CommunityEngagement.Inclusivity',\n",
       " 'score.CommunityEngagement.ParticipationMechanisms',\n",
       " 'score.CommunityEngagement.AwarenessAndEducation',\n",
       " 'score.Sustainability.EnvironmentalConsiderations',\n",
       " 'score.Sustainability.EconomicSustainability',\n",
       " 'score.Sustainability.SocialSustainability']"
      ]
     },
     "execution_count": 28,
     "metadata": {},
     "output_type": "execute_result"
    }
   ],
   "source": [
    "cols"
   ]
  },
  {
   "cell_type": "code",
   "execution_count": 7,
   "metadata": {},
   "outputs": [],
   "source": [
    "df['score_total'] = df[cols].sum(axis=1)"
   ]
  },
  {
   "cell_type": "code",
   "execution_count": 8,
   "metadata": {},
   "outputs": [],
   "source": [
    "df_sorted = df.sort_values(by='score_total', ascending=False)"
   ]
  },
  {
   "cell_type": "code",
   "execution_count": 16,
   "metadata": {},
   "outputs": [
    {
     "data": {
      "image/png": "[encoded data removed]",
      "text/plain": [
       "<Figure size 640x480 with 1 Axes>"
      ]
     },
     "metadata": {},
     "output_type": "display_data"
    }
   ],
   "source": [
    "import matplotlib.pyplot as plt\n",
    "import seaborn as sns\n",
    "\n",
    "# Example: Plot the distribution of TotalScores\n",
    "sns.histplot(df['score_total'])\n",
    "plt.title('Distribution of Total Scores')\n",
    "plt.xlabel('Total Score')\n",
    "plt.ylabel('Number of Resources')\n",
    "plt.show()"
   ]
  },
  {
   "cell_type": "code",
   "execution_count": 9,
   "metadata": {},
   "outputs": [
    {
     "data": {
      "text/plain": [
       "2427"
      ]
     },
     "execution_count": 9,
     "metadata": {},
     "output_type": "execute_result"
    }
   ],
   "source": [
    "len(df)"
   ]
  },
  {
   "cell_type": "code",
   "execution_count": 18,
   "metadata": {},
   "outputs": [
    {
     "name": "stdout",
     "output_type": "stream",
     "text": [
      "Index(['index', 'id', 'program', 'description', 'organization', 'address',\n",
      "       'email', 'website', 'url_valid',\n",
      "       'eval.Technological Empowerment and Accessibility',\n",
      "       'eval.Innovation and Economic Resilience',\n",
      "       'eval.Community Engagement and Digital Inclusion',\n",
      "       'eval.Sustainable Development and Infrastructure',\n",
      "       'eval.Policy Innovation and Supportive Governance',\n",
      "       'eval.Collaboration across Sectors',\n",
      "       'score.ImpactPotential.BreadthOfImpact',\n",
      "       'score.ImpactPotential.DepthOfImpact',\n",
      "       'score.ImpactPotential.UrgencyOfNeed',\n",
      "       'score.Feasibility.TechnicalViability',\n",
      "       'score.Feasibility.FinancialPracticality',\n",
      "       'score.Feasibility.RegulatoryCompliance',\n",
      "       'score.Feasibility.PoliticalViability',\n",
      "       'score.Innovativeness.Originality',\n",
      "       'score.Innovativeness.ApplicationOfTechnology',\n",
      "       'score.Innovativeness.ProblemSolvingApproach',\n",
      "       'score.Scalability.Adaptability', 'score.Scalability.GrowthPotential',\n",
      "       'score.Scalability.Replicability',\n",
      "       'score.CommunityEngagement.Inclusivity',\n",
      "       'score.CommunityEngagement.ParticipationMechanisms',\n",
      "       'score.CommunityEngagement.AwarenessAndEducation',\n",
      "       'score.Sustainability.EnvironmentalConsiderations',\n",
      "       'score.Sustainability.EconomicSustainability',\n",
      "       'score.Sustainability.SocialSustainability', 'score_total'],\n",
      "      dtype='object')\n"
     ]
    }
   ],
   "source": [
    "path\n",
    "df_sorted.rename(columns={'Unnamed: 0':'index'}, inplace=True)\n",
    "print(df_sorted.columns)"
   ]
  },
  {
   "cell_type": "code",
   "execution_count": 20,
   "metadata": {},
   "outputs": [],
   "source": [
    "df_sorted.to_csv(os.path.join(path, 'r-map.csv'))"
   ]
  },
  {
   "cell_type": "code",
   "execution_count": 21,
   "metadata": {},
   "outputs": [
    {
     "name": "stdout",
     "output_type": "stream",
     "text": [
      "Index(['index', 'id', 'program', 'description', 'organization', 'address',\n",
      "       'email', 'website', 'url_valid',\n",
      "       'eval.Technological Empowerment and Accessibility',\n",
      "       'eval.Innovation and Economic Resilience',\n",
      "       'eval.Community Engagement and Digital Inclusion',\n",
      "       'eval.Sustainable Development and Infrastructure',\n",
      "       'eval.Policy Innovation and Supportive Governance',\n",
      "       'eval.Collaboration across Sectors',\n",
      "       'score.ImpactPotential.BreadthOfImpact',\n",
      "       'score.ImpactPotential.DepthOfImpact',\n",
      "       'score.ImpactPotential.UrgencyOfNeed',\n",
      "       'score.Feasibility.TechnicalViability',\n",
      "       'score.Feasibility.FinancialPracticality',\n",
      "       'score.Feasibility.RegulatoryCompliance',\n",
      "       'score.Feasibility.PoliticalViability',\n",
      "       'score.Innovativeness.Originality',\n",
      "       'score.Innovativeness.ApplicationOfTechnology',\n",
      "       'score.Innovativeness.ProblemSolvingApproach',\n",
      "       'score.Scalability.Adaptability', 'score.Scalability.GrowthPotential',\n",
      "       'score.Scalability.Replicability',\n",
      "       'score.CommunityEngagement.Inclusivity',\n",
      "       'score.CommunityEngagement.ParticipationMechanisms',\n",
      "       'score.CommunityEngagement.AwarenessAndEducation',\n",
      "       'score.Sustainability.EnvironmentalConsiderations',\n",
      "       'score.Sustainability.EconomicSustainability',\n",
      "       'score.Sustainability.SocialSustainability', 'score_total'],\n",
      "      dtype='object')\n"
     ]
    }
   ],
   "source": [
    "df_sorted.rename(columns={'Unnamed':'index'}, inplace=True)\n",
    "print(df_sorted.columns)"
   ]
  },
  {
   "cell_type": "code",
   "execution_count": 31,
   "metadata": {},
   "outputs": [
    {
     "data": {
      "text/plain": [
       "2427"
      ]
     },
     "execution_count": 31,
     "metadata": {},
     "output_type": "execute_result"
    }
   ],
   "source": [
    "len(df_sorted)"
   ]
  },
  {
   "cell_type": "code",
   "execution_count": 27,
   "metadata": {},
   "outputs": [
    {
     "ename": "KeyError",
     "evalue": "'Unnamed: 0'",
     "output_type": "error",
     "traceback": [
      "\u001b[1;31m---------------------------------------------------------------------------\u001b[0m",
      "\u001b[1;31mKeyError\u001b[0m                                  Traceback (most recent call last)",
      "File \u001b[1;32m~\\AppData\\Local\\Packages\\PythonSoftwareFoundation.Python.3.11_qbz5n2kfra8p0\\LocalCache\\local-packages\\Python311\\site-packages\\pandas\\core\\indexes\\base.py:3802\u001b[0m, in \u001b[0;36mIndex.get_loc\u001b[1;34m(self, key)\u001b[0m\n\u001b[0;32m   3801\u001b[0m \u001b[38;5;28;01mtry\u001b[39;00m:\n\u001b[1;32m-> 3802\u001b[0m     \u001b[38;5;28;01mreturn\u001b[39;00m \u001b[38;5;28;43mself\u001b[39;49m\u001b[38;5;241;43m.\u001b[39;49m\u001b[43m_engine\u001b[49m\u001b[38;5;241;43m.\u001b[39;49m\u001b[43mget_loc\u001b[49m\u001b[43m(\u001b[49m\u001b[43mcasted_key\u001b[49m\u001b[43m)\u001b[49m\n\u001b[0;32m   3803\u001b[0m \u001b[38;5;28;01mexcept\u001b[39;00m \u001b[38;5;167;01mKeyError\u001b[39;00m \u001b[38;5;28;01mas\u001b[39;00m err:\n",
      "File \u001b[1;32mindex.pyx:153\u001b[0m, in \u001b[0;36mpandas._libs.index.IndexEngine.get_loc\u001b[1;34m()\u001b[0m\n",
      "File \u001b[1;32mindex.pyx:182\u001b[0m, in \u001b[0;36mpandas._libs.index.IndexEngine.get_loc\u001b[1;34m()\u001b[0m\n",
      "File \u001b[1;32mpandas\\\\_libs\\\\hashtable_class_helper.pxi:7081\u001b[0m, in \u001b[0;36mpandas._libs.hashtable.PyObjectHashTable.get_item\u001b[1;34m()\u001b[0m\n",
      "File \u001b[1;32mpandas\\\\_libs\\\\hashtable_class_helper.pxi:7089\u001b[0m, in \u001b[0;36mpandas._libs.hashtable.PyObjectHashTable.get_item\u001b[1;34m()\u001b[0m\n",
      "\u001b[1;31mKeyError\u001b[0m: 'Unnamed: 0'",
      "\nThe above exception was the direct cause of the following exception:\n",
      "\u001b[1;31mKeyError\u001b[0m                                  Traceback (most recent call last)",
      "Cell \u001b[1;32mIn[27], line 3\u001b[0m\n\u001b[0;32m      1\u001b[0m c1 \u001b[38;5;241m=\u001b[39m df\u001b[38;5;241m.\u001b[39mcolumns[\u001b[38;5;241m0\u001b[39m]\n\u001b[0;32m      2\u001b[0m c2 \u001b[38;5;241m=\u001b[39m df\u001b[38;5;241m.\u001b[39mcolumns[\u001b[38;5;241m1\u001b[39m]\n\u001b[1;32m----> 3\u001b[0m \u001b[38;5;28;01mif\u001b[39;00m \u001b[43mdf_sorted\u001b[49m\u001b[43m[\u001b[49m\u001b[43mc1\u001b[49m\u001b[43m]\u001b[49m\u001b[38;5;241m.\u001b[39mequals(df_sorted[c2]):\n\u001b[0;32m      4\u001b[0m     df_sorted\u001b[38;5;241m.\u001b[39mdrop(columns\u001b[38;5;241m=\u001b[39m[\u001b[38;5;241m0\u001b[39m], inplace\u001b[38;5;241m=\u001b[39m\u001b[38;5;28;01mTrue\u001b[39;00m)\n",
      "File \u001b[1;32m~\\AppData\\Local\\Packages\\PythonSoftwareFoundation.Python.3.11_qbz5n2kfra8p0\\LocalCache\\local-packages\\Python311\\site-packages\\pandas\\core\\frame.py:4090\u001b[0m, in \u001b[0;36mDataFrame.__getitem__\u001b[1;34m(self, key)\u001b[0m\n\u001b[0;32m   4088\u001b[0m \u001b[38;5;28;01mif\u001b[39;00m \u001b[38;5;28mself\u001b[39m\u001b[38;5;241m.\u001b[39mcolumns\u001b[38;5;241m.\u001b[39mnlevels \u001b[38;5;241m>\u001b[39m \u001b[38;5;241m1\u001b[39m:\n\u001b[0;32m   4089\u001b[0m     \u001b[38;5;28;01mreturn\u001b[39;00m \u001b[38;5;28mself\u001b[39m\u001b[38;5;241m.\u001b[39m_getitem_multilevel(key)\n\u001b[1;32m-> 4090\u001b[0m indexer \u001b[38;5;241m=\u001b[39m \u001b[38;5;28;43mself\u001b[39;49m\u001b[38;5;241;43m.\u001b[39;49m\u001b[43mcolumns\u001b[49m\u001b[38;5;241;43m.\u001b[39;49m\u001b[43mget_loc\u001b[49m\u001b[43m(\u001b[49m\u001b[43mkey\u001b[49m\u001b[43m)\u001b[49m\n\u001b[0;32m   4091\u001b[0m \u001b[38;5;28;01mif\u001b[39;00m is_integer(indexer):\n\u001b[0;32m   4092\u001b[0m     indexer \u001b[38;5;241m=\u001b[39m [indexer]\n",
      "File \u001b[1;32m~\\AppData\\Local\\Packages\\PythonSoftwareFoundation.Python.3.11_qbz5n2kfra8p0\\LocalCache\\local-packages\\Python311\\site-packages\\pandas\\core\\indexes\\base.py:3809\u001b[0m, in \u001b[0;36mIndex.get_loc\u001b[1;34m(self, key)\u001b[0m\n\u001b[0;32m   3804\u001b[0m     \u001b[38;5;28;01mif\u001b[39;00m \u001b[38;5;28misinstance\u001b[39m(casted_key, \u001b[38;5;28mslice\u001b[39m) \u001b[38;5;129;01mor\u001b[39;00m (\n\u001b[0;32m   3805\u001b[0m         \u001b[38;5;28misinstance\u001b[39m(casted_key, abc\u001b[38;5;241m.\u001b[39mIterable)\n\u001b[0;32m   3806\u001b[0m         \u001b[38;5;129;01mand\u001b[39;00m \u001b[38;5;28many\u001b[39m(\u001b[38;5;28misinstance\u001b[39m(x, \u001b[38;5;28mslice\u001b[39m) \u001b[38;5;28;01mfor\u001b[39;00m x \u001b[38;5;129;01min\u001b[39;00m casted_key)\n\u001b[0;32m   3807\u001b[0m     ):\n\u001b[0;32m   3808\u001b[0m         \u001b[38;5;28;01mraise\u001b[39;00m InvalidIndexError(key)\n\u001b[1;32m-> 3809\u001b[0m     \u001b[38;5;28;01mraise\u001b[39;00m \u001b[38;5;167;01mKeyError\u001b[39;00m(key) \u001b[38;5;28;01mfrom\u001b[39;00m \u001b[38;5;21;01merr\u001b[39;00m\n\u001b[0;32m   3810\u001b[0m \u001b[38;5;28;01mexcept\u001b[39;00m \u001b[38;5;167;01mTypeError\u001b[39;00m:\n\u001b[0;32m   3811\u001b[0m     \u001b[38;5;66;03m# If we have a listlike key, _check_indexing_error will raise\u001b[39;00m\n\u001b[0;32m   3812\u001b[0m     \u001b[38;5;66;03m#  InvalidIndexError. Otherwise we fall through and re-raise\u001b[39;00m\n\u001b[0;32m   3813\u001b[0m     \u001b[38;5;66;03m#  the TypeError.\u001b[39;00m\n\u001b[0;32m   3814\u001b[0m     \u001b[38;5;28mself\u001b[39m\u001b[38;5;241m.\u001b[39m_check_indexing_error(key)\n",
      "\u001b[1;31mKeyError\u001b[0m: 'Unnamed: 0'"
     ]
    }
   ],
   "source": [
    "c1 = df.columns[1]\n",
    "c2 = df.columns[2]\n",
    "if df_sorted[c1].equals(df_sorted[c2]):\n",
    "    df_sorted.drop(columns=[0], inplace=True)"
   ]
  },
  {
   "cell_type": "code",
   "execution_count": 29,
   "metadata": {},
   "outputs": [
    {
     "data": {
      "text/html": [
       "<div>\n",
       "<style scoped>\n",
       "    .dataframe tbody tr th:only-of-type {\n",
       "        vertical-align: middle;\n",
       "    }\n",
       "\n",
       "    .dataframe tbody tr th {\n",
       "        vertical-align: top;\n",
       "    }\n",
       "\n",
       "    .dataframe thead th {\n",
       "        text-align: right;\n",
       "    }\n",
       "</style>\n",
       "<table border=\"1\" class=\"dataframe\">\n",
       "  <thead>\n",
       "    <tr style=\"text-align: right;\">\n",
       "      <th></th>\n",
       "      <th>index</th>\n",
       "      <th>id</th>\n",
       "      <th>program</th>\n",
       "      <th>description</th>\n",
       "      <th>organization</th>\n",
       "      <th>address</th>\n",
       "      <th>email</th>\n",
       "      <th>website</th>\n",
       "      <th>url_valid</th>\n",
       "      <th>eval.Technological Empowerment and Accessibility</th>\n",
       "      <th>...</th>\n",
       "      <th>score.Scalability.Adaptability</th>\n",
       "      <th>score.Scalability.GrowthPotential</th>\n",
       "      <th>score.Scalability.Replicability</th>\n",
       "      <th>score.CommunityEngagement.Inclusivity</th>\n",
       "      <th>score.CommunityEngagement.ParticipationMechanisms</th>\n",
       "      <th>score.CommunityEngagement.AwarenessAndEducation</th>\n",
       "      <th>score.Sustainability.EnvironmentalConsiderations</th>\n",
       "      <th>score.Sustainability.EconomicSustainability</th>\n",
       "      <th>score.Sustainability.SocialSustainability</th>\n",
       "      <th>score_total</th>\n",
       "    </tr>\n",
       "  </thead>\n",
       "  <tbody>\n",
       "    <tr>\n",
       "      <th>1665</th>\n",
       "      <td>1665</td>\n",
       "      <td>2211</td>\n",
       "      <td>Data Protection in Schools Campaign</td>\n",
       "      <td>Awareness programs in schools to educate child...</td>\n",
       "      <td>Comissão Nacional de Proteção de Dados (CNPD)</td>\n",
       "      <td>Rua de São Bento n.º 148-3º 1200-821 Lisboa</td>\n",
       "      <td>geral@cnpd.pt</td>\n",
       "      <td>https://www.cnpd.pt</td>\n",
       "      <td>False</td>\n",
       "      <td>3</td>\n",
       "      <td>...</td>\n",
       "      <td>8</td>\n",
       "      <td>7</td>\n",
       "      <td>9</td>\n",
       "      <td>9</td>\n",
       "      <td>8</td>\n",
       "      <td>10</td>\n",
       "      <td>9</td>\n",
       "      <td>7</td>\n",
       "      <td>9</td>\n",
       "      <td>152</td>\n",
       "    </tr>\n",
       "    <tr>\n",
       "      <th>1685</th>\n",
       "      <td>1685</td>\n",
       "      <td>2231</td>\n",
       "      <td>Stay Secure - Cyber Awareness Sessions</td>\n",
       "      <td>Regular sessions conducted at community center...</td>\n",
       "      <td>Lisbon Municipality</td>\n",
       "      <td>Praça do Municipío, 1100-365 Lisboa, Portugal</td>\n",
       "      <td>contacto@cm-lisboa.pt</td>\n",
       "      <td>https://www.cm-lisboa.pt/viver/seguranca/cyber...</td>\n",
       "      <td>True</td>\n",
       "      <td>7</td>\n",
       "      <td>...</td>\n",
       "      <td>8</td>\n",
       "      <td>7</td>\n",
       "      <td>9</td>\n",
       "      <td>9</td>\n",
       "      <td>8</td>\n",
       "      <td>10</td>\n",
       "      <td>8</td>\n",
       "      <td>7</td>\n",
       "      <td>9</td>\n",
       "      <td>151</td>\n",
       "    </tr>\n",
       "    <tr>\n",
       "      <th>544</th>\n",
       "      <td>544</td>\n",
       "      <td>617</td>\n",
       "      <td>Digital Inclusion Campaigns</td>\n",
       "      <td>Campaigns and workshops aimed at improving dig...</td>\n",
       "      <td>Programa Escolhas</td>\n",
       "      <td>Alto da Eira. Rua Dr. José Espírito Santo, Lot...</td>\n",
       "      <td>escolhas@programaescolhas.pt</td>\n",
       "      <td>http://www.programaescolhas.pt/</td>\n",
       "      <td>NaN</td>\n",
       "      <td>8</td>\n",
       "      <td>...</td>\n",
       "      <td>9</td>\n",
       "      <td>8</td>\n",
       "      <td>9</td>\n",
       "      <td>9</td>\n",
       "      <td>8</td>\n",
       "      <td>10</td>\n",
       "      <td>7</td>\n",
       "      <td>7</td>\n",
       "      <td>8</td>\n",
       "      <td>149</td>\n",
       "    </tr>\n",
       "    <tr>\n",
       "      <th>758</th>\n",
       "      <td>758</td>\n",
       "      <td>932</td>\n",
       "      <td>Santa Casa da Misericórdia de Lisboa - Centro ...</td>\n",
       "      <td>The Innovation Center of Mouraria (Centro de I...</td>\n",
       "      <td>Santa Casa da Misericórdia de Lisboa</td>\n",
       "      <td>Largo da Misericórdia, 1200-096 Lisboa, Portugal</td>\n",
       "      <td>scml@scml.pt</td>\n",
       "      <td>https://www.scml.pt/</td>\n",
       "      <td>True</td>\n",
       "      <td>7</td>\n",
       "      <td>...</td>\n",
       "      <td>8</td>\n",
       "      <td>7</td>\n",
       "      <td>6</td>\n",
       "      <td>9</td>\n",
       "      <td>8</td>\n",
       "      <td>9</td>\n",
       "      <td>9</td>\n",
       "      <td>7</td>\n",
       "      <td>9</td>\n",
       "      <td>148</td>\n",
       "    </tr>\n",
       "    <tr>\n",
       "      <th>491</th>\n",
       "      <td>491</td>\n",
       "      <td>561</td>\n",
       "      <td>Digital Inclusion and Literacy Project</td>\n",
       "      <td>This project aims to improve the digital skill...</td>\n",
       "      <td>Santa Casa da Misericórdia de Lisboa</td>\n",
       "      <td>Largo Trindade Coelho, 1200-470 Lisboa, Portugal</td>\n",
       "      <td>provedoria@scml.pt</td>\n",
       "      <td>https://www.scml.pt/</td>\n",
       "      <td>NaN</td>\n",
       "      <td>8</td>\n",
       "      <td>...</td>\n",
       "      <td>8</td>\n",
       "      <td>7</td>\n",
       "      <td>9</td>\n",
       "      <td>9</td>\n",
       "      <td>8</td>\n",
       "      <td>8</td>\n",
       "      <td>8</td>\n",
       "      <td>7</td>\n",
       "      <td>9</td>\n",
       "      <td>148</td>\n",
       "    </tr>\n",
       "  </tbody>\n",
       "</table>\n",
       "<p>5 rows × 35 columns</p>\n",
       "</div>"
      ],
      "text/plain": [
       "      index    id                                            program  \\\n",
       "1665   1665  2211                Data Protection in Schools Campaign   \n",
       "1685   1685  2231             Stay Secure - Cyber Awareness Sessions   \n",
       "544     544   617                        Digital Inclusion Campaigns   \n",
       "758     758   932  Santa Casa da Misericórdia de Lisboa - Centro ...   \n",
       "491     491   561             Digital Inclusion and Literacy Project   \n",
       "\n",
       "                                            description  \\\n",
       "1665  Awareness programs in schools to educate child...   \n",
       "1685  Regular sessions conducted at community center...   \n",
       "544   Campaigns and workshops aimed at improving dig...   \n",
       "758   The Innovation Center of Mouraria (Centro de I...   \n",
       "491   This project aims to improve the digital skill...   \n",
       "\n",
       "                                       organization  \\\n",
       "1665  Comissão Nacional de Proteção de Dados (CNPD)   \n",
       "1685                            Lisbon Municipality   \n",
       "544                               Programa Escolhas   \n",
       "758            Santa Casa da Misericórdia de Lisboa   \n",
       "491            Santa Casa da Misericórdia de Lisboa   \n",
       "\n",
       "                                                address  \\\n",
       "1665        Rua de São Bento n.º 148-3º 1200-821 Lisboa   \n",
       "1685      Praça do Municipío, 1100-365 Lisboa, Portugal   \n",
       "544   Alto da Eira. Rua Dr. José Espírito Santo, Lot...   \n",
       "758    Largo da Misericórdia, 1200-096 Lisboa, Portugal   \n",
       "491    Largo Trindade Coelho, 1200-470 Lisboa, Portugal   \n",
       "\n",
       "                             email  \\\n",
       "1665                 geral@cnpd.pt   \n",
       "1685         contacto@cm-lisboa.pt   \n",
       "544   escolhas@programaescolhas.pt   \n",
       "758                   scml@scml.pt   \n",
       "491             provedoria@scml.pt   \n",
       "\n",
       "                                                website url_valid  \\\n",
       "1665                                https://www.cnpd.pt     False   \n",
       "1685  https://www.cm-lisboa.pt/viver/seguranca/cyber...      True   \n",
       "544                     http://www.programaescolhas.pt/       NaN   \n",
       "758                                https://www.scml.pt/      True   \n",
       "491                                https://www.scml.pt/       NaN   \n",
       "\n",
       "      eval.Technological Empowerment and Accessibility  ...  \\\n",
       "1665                                                 3  ...   \n",
       "1685                                                 7  ...   \n",
       "544                                                  8  ...   \n",
       "758                                                  7  ...   \n",
       "491                                                  8  ...   \n",
       "\n",
       "      score.Scalability.Adaptability  score.Scalability.GrowthPotential  \\\n",
       "1665                               8                                  7   \n",
       "1685                               8                                  7   \n",
       "544                                9                                  8   \n",
       "758                                8                                  7   \n",
       "491                                8                                  7   \n",
       "\n",
       "      score.Scalability.Replicability  score.CommunityEngagement.Inclusivity  \\\n",
       "1665                                9                                      9   \n",
       "1685                                9                                      9   \n",
       "544                                 9                                      9   \n",
       "758                                 6                                      9   \n",
       "491                                 9                                      9   \n",
       "\n",
       "      score.CommunityEngagement.ParticipationMechanisms  \\\n",
       "1665                                                  8   \n",
       "1685                                                  8   \n",
       "544                                                   8   \n",
       "758                                                   8   \n",
       "491                                                   8   \n",
       "\n",
       "      score.CommunityEngagement.AwarenessAndEducation  \\\n",
       "1665                                               10   \n",
       "1685                                               10   \n",
       "544                                                10   \n",
       "758                                                 9   \n",
       "491                                                 8   \n",
       "\n",
       "      score.Sustainability.EnvironmentalConsiderations  \\\n",
       "1665                                                 9   \n",
       "1685                                                 8   \n",
       "544                                                  7   \n",
       "758                                                  9   \n",
       "491                                                  8   \n",
       "\n",
       "      score.Sustainability.EconomicSustainability  \\\n",
       "1665                                            7   \n",
       "1685                                            7   \n",
       "544                                             7   \n",
       "758                                             7   \n",
       "491                                             7   \n",
       "\n",
       "      score.Sustainability.SocialSustainability  score_total  \n",
       "1665                                          9          152  \n",
       "1685                                          9          151  \n",
       "544                                           8          149  \n",
       "758                                           9          148  \n",
       "491                                           9          148  \n",
       "\n",
       "[5 rows x 35 columns]"
      ]
     },
     "execution_count": 29,
     "metadata": {},
     "output_type": "execute_result"
    }
   ],
   "source": [
    "df_sorted.head()"
   ]
  },
  {
   "cell_type": "code",
   "execution_count": null,
   "metadata": {},
   "outputs": [],
   "source": []
  },
  {
   "cell_type": "code",
   "execution_count": null,
   "metadata": {},
   "outputs": [],
   "source": []
  },
  {
   "cell_type": "code",
   "execution_count": null,
   "metadata": {},
   "outputs": [],
   "source": []
  }
 ],
 "metadata": {
  "kernelspec": {
   "display_name": "Python 3",
   "language": "python",
   "name": "python3"
  },
  "language_info": {
   "codemirror_mode": {
    "name": "ipython",
    "version": 3
   },
   "file_extension": ".py",
   "mimetype": "text/x-python",
   "name": "python",
   "nbconvert_exporter": "python",
   "pygments_lexer": "ipython3",
   "version": "3.11.7"
  }
 },
 "nbformat": 4,
 "nbformat_minor": 2
}
